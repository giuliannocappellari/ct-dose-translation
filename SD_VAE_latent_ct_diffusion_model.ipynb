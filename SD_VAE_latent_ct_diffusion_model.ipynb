{
  "cells": [
    {
      "cell_type": "code",
      "execution_count": null,
      "metadata": {
        "colab": {
          "base_uri": "https://localhost:8080/"
        },
        "id": "1EXvuTGmeAFc",
        "outputId": "b5ced508-d21e-441f-b5d8-aea352fc1d4d"
      },
      "outputs": [
        {
          "output_type": "stream",
          "name": "stdout",
          "text": [
            "Drive already mounted at /content/drive; to attempt to forcibly remount, call drive.mount(\"/content/drive\", force_remount=True).\n"
          ]
        }
      ],
      "source": [
        "from google.colab import drive\n",
        "drive.mount('/content/drive')"
      ]
    },
    {
      "cell_type": "code",
      "execution_count": null,
      "metadata": {
        "id": "D62kvSpPsNrF"
      },
      "outputs": [],
      "source": [
        "!pip install pydicom\n",
        "!pip install einops\n",
        "!pip install pytorch-lightning\n",
        "!pip install lpips"
      ]
    },
    {
      "cell_type": "code",
      "execution_count": null,
      "metadata": {
        "id": "hh_WlzqzeM55"
      },
      "outputs": [],
      "source": [
        "import os, math, random\n",
        "from pathlib import Path\n",
        "import matplotlib.pyplot as plt\n",
        "\n",
        "\n",
        "import numpy as np\n",
        "import torch\n",
        "import torch.nn as nn\n",
        "import torch.nn.functional as F\n",
        "from torch.utils.data import Dataset, DataLoader\n",
        "from torchvision import transforms\n",
        "from PIL import Image\n",
        "import pydicom\n",
        "from diffusers import AutoencoderKL\n",
        "from lpips import LPIPS\n",
        "from torch.optim import Adam\n",
        "from torch.optim.lr_scheduler import CosineAnnealingLR\n",
        "from torch.utils.data import random_split"
      ]
    },
    {
      "cell_type": "markdown",
      "metadata": {
        "id": "2ZpTED6PteJ7"
      },
      "source": [
        "# Dataset"
      ]
    },
    {
      "cell_type": "code",
      "execution_count": null,
      "metadata": {
        "id": "g4zCCsqyPXJQ"
      },
      "outputs": [],
      "source": [
        "class CTDataset(Dataset):\n",
        "    \"\"\"\n",
        "    Custom Dataset for loading .IMA CT images from a single folder.\n",
        "    \"\"\"\n",
        "    def __init__(self, root_dir, transform=None):\n",
        "        root = Path(root_dir)\n",
        "\n",
        "        # collect all your low/high folders however you like\n",
        "        self.pairs = self.collect_pairs_by_position(root_dir)\n",
        "        self.transform = transform\n",
        "\n",
        "    def __len__(self):\n",
        "        return len(self.pairs)\n",
        "\n",
        "    def collect_pairs_by_position(self, root: str, sort: bool = True):\n",
        "        \"\"\"\n",
        "        Walk quarter_3mm ↔ full_3mm and quarter_1mm ↔ full_1mm in parallel,\n",
        "        and pair the i-th image in each patient directory by position.\n",
        "        \"\"\"\n",
        "        root = Path(root)\n",
        "        mapping = {\n",
        "            \"quarter_3mm\": \"full_3mm\",\n",
        "            \"quarter_1mm\": \"full_1mm\",\n",
        "        }\n",
        "\n",
        "        pairs = []\n",
        "        for small_name, full_name in mapping.items():\n",
        "            small_root = root / small_name\n",
        "            full_root  = root / full_name\n",
        "\n",
        "            # each subfolder under small_root is a patient ID\n",
        "            for patient_dir in sorted(small_root.iterdir()):\n",
        "                if not patient_dir.is_dir():\n",
        "                    continue\n",
        "\n",
        "                # match the same patient under the full folder\n",
        "                full_patient_dir = full_root / patient_dir.name\n",
        "                if not full_patient_dir.exists():\n",
        "                    continue\n",
        "\n",
        "                # grab all images anywhere under that patient (rglob)\n",
        "                small_imgs = list(patient_dir.rglob(\"*.IMA\"))\n",
        "                full_imgs  = list(full_patient_dir.rglob(\"*.IMA\"))\n",
        "\n",
        "                if sort:\n",
        "                    small_imgs.sort()\n",
        "                    full_imgs.sort()\n",
        "\n",
        "                # pair by index\n",
        "                for small_img, full_img in zip(small_imgs, full_imgs):\n",
        "                    pairs.append(small_img)\n",
        "                    pairs.append(full_img)\n",
        "\n",
        "        return pairs\n",
        "\n",
        "    def __getitem__(self, idx):\n",
        "        # Read DICOM file\n",
        "        q_path=  self.pairs[idx]\n",
        "        ds_q = pydicom.dcmread(q_path)\n",
        "        img_q = ds_q.pixel_array.astype(np.float32)\n",
        "\n",
        "        # Normalize pixel values to [0, 1]\n",
        "        img_q = (img_q - img_q.min()) / (img_q.max() - img_q.min() + 1e-5)\n",
        "\n",
        "        # Convert to 8-bit and PIL Image\n",
        "        img_q = (img_q * 255).astype(np.uint8)\n",
        "        img_q = Image.fromarray(img_q)\n",
        "\n",
        "        # Apply transforms (e.g. ToTensor, Normalize, etc.)\n",
        "        if self.transform:\n",
        "            img_q = self.transform(img_q)\n",
        "\n",
        "        # Return image and dummy label\n",
        "        return img_q\n"
      ]
    },
    {
      "cell_type": "code",
      "execution_count": null,
      "metadata": {
        "id": "8Ozlu4pztXwF"
      },
      "outputs": [],
      "source": [
        "transform = transforms.Compose([\n",
        "            transforms.Grayscale(num_output_channels=1),\n",
        "            transforms.Resize((256,256)),            # or your desired size\n",
        "            transforms.ToTensor(),                   # → [0,1]\n",
        "            transforms.Normalize([0.5], [0.5])       # → [−1, +1]\n",
        "        ])"
      ]
    },
    {
      "cell_type": "code",
      "execution_count": null,
      "metadata": {
        "id": "jb63gLCW8XQe"
      },
      "outputs": [],
      "source": [
        "# ds = CTDataset(\"/content/drive/MyDrive/CT\", transform)\n",
        "ds = CTDataset(\"/content/drive/MyDrive/CT/\", transform=transform)\n",
        "n_val   = int(len(ds) * 0.1)\n",
        "n_train = len(ds) - n_val\n",
        "\n",
        "train_ds, val_ds = random_split(ds, [n_train, n_val])\n",
        "\n",
        "train_loader = DataLoader(train_ds, batch_size=8, shuffle=True,  num_workers=4)\n",
        "val_loader   = DataLoader(val_ds,   batch_size=8, shuffle=False, num_workers=4)"
      ]
    },
    {
      "cell_type": "markdown",
      "metadata": {
        "id": "ZhyQVEfapnll"
      },
      "source": [
        "# AutoEncoder"
      ]
    },
    {
      "cell_type": "code",
      "execution_count": null,
      "metadata": {
        "id": "0Q4dLxADlZF0"
      },
      "outputs": [],
      "source": [
        "class PatchDiscriminator(nn.Module):\n",
        "    def __init__(self, in_channels=1, ch=64, n_layers=3):\n",
        "        super().__init__()\n",
        "        layers = [nn.Conv2d(in_channels, ch, 4, stride=2, padding=1),\n",
        "                  nn.LeakyReLU(0.2, inplace=True)]\n",
        "        nf = ch\n",
        "        for _ in range(1, n_layers):\n",
        "            layers += [\n",
        "                nn.Conv2d(nf, nf*2, 4, stride=2, padding=1),\n",
        "                nn.GroupNorm(32, nf*2),\n",
        "                nn.LeakyReLU(0.2, inplace=True)\n",
        "            ]\n",
        "            nf *= 2\n",
        "        layers += [nn.Conv2d(nf, 1, 4, padding=1)]\n",
        "        self.model = nn.Sequential(*layers)\n",
        "\n",
        "    def forward(self, x):\n",
        "        return self.model(x)"
      ]
    },
    {
      "cell_type": "markdown",
      "metadata": {
        "id": "yWYA7Hpgs4jd"
      },
      "source": [
        "## Train"
      ]
    },
    {
      "cell_type": "code",
      "execution_count": null,
      "metadata": {
        "id": "ztrkD1yqo8CU"
      },
      "outputs": [],
      "source": [
        "from torch.optim import Adam"
      ]
    },
    {
      "cell_type": "code",
      "execution_count": null,
      "metadata": {
        "id": "7KNpGXUmEVaR"
      },
      "outputs": [],
      "source": [
        "# 1) Define an inverse normalization to go from [-1,+1] back to [0,1]\n",
        "inv_normalize = transforms.Normalize(\n",
        "    mean=[-1.0],  # x' = (x - mean) / std  →  to invert: x = x' * std + mean\n",
        "    std=[2.0]\n",
        ")\n",
        "\n",
        "def load_and_preprocess(path):\n",
        "    ds  = pydicom.dcmread(path)\n",
        "    arr = ds.pixel_array.astype(float)\n",
        "    arr = (arr - arr.min()) / (arr.max() - arr.min() + 1e-5)\n",
        "    pil = Image.fromarray((arr * 255).astype(\"uint8\"))\n",
        "    return transform(pil).unsqueeze(0)\n",
        "\n",
        "# 2) Function to reconstruct and display\n",
        "def show_reconstruction(image_path: str, vae: torch.nn.Module, transform, device):\n",
        "    # Load & preprocess\n",
        "    x = load_and_preprocess(image_path)             # grayscale\n",
        "    x = x.to(device)            # [1,1,H,W], normalized to [-1,+1]\n",
        "    x_rgb = x.repeat(1, 3, 1, 1)                          # VAE expects 3-channel input\n",
        "\n",
        "    # VAE forward\n",
        "    vae.eval()\n",
        "    with torch.no_grad():\n",
        "        enc_out     = vae.encode(x_rgb)\n",
        "        latent_dist = enc_out.latent_dist\n",
        "        z           = latent_dist.sample() * vae.config.scaling_factor\n",
        "        dec_out     = vae.decode(z)\n",
        "        recon_rgb   = dec_out.sample                     # [1,3,H',W']\n",
        "        recon       = recon_rgb[:, :1, :, :]             # take channel 0 → [1,1,H',W']\n",
        "\n",
        "    # Postprocess: undo normalization, clamp to [0,1]\n",
        "    recon_denorm = inv_normalize(recon.cpu().squeeze(0))\n",
        "    orig_denorm  = inv_normalize(x.cpu().squeeze(0))\n",
        "\n",
        "    recon_img = torch.clamp(recon_denorm, 0.0, 1.0)\n",
        "    orig_img  = torch.clamp(orig_denorm,  0.0, 1.0)\n",
        "\n",
        "    # 3) Plot\n",
        "    fig, axes = plt.subplots(1, 2, figsize=(8, 4))\n",
        "    axes[0].imshow(orig_img.squeeze(), cmap=\"gray\")\n",
        "    axes[0].set_title(\"Original\")\n",
        "    axes[0].axis(\"off\")\n",
        "    axes[1].imshow(recon_img.squeeze(), cmap=\"gray\")\n",
        "    axes[1].set_title(\"Reconstruction\")\n",
        "    axes[1].axis(\"off\")\n",
        "    plt.tight_layout()\n",
        "    plt.show()"
      ]
    },
    {
      "cell_type": "code",
      "execution_count": null,
      "metadata": {
        "id": "9oIhEH45Vk4D"
      },
      "outputs": [],
      "source": [
        "def train_vae_accum(\n",
        "    model: torch.nn.Module,\n",
        "    train_loader: DataLoader,\n",
        "    val_loader:   DataLoader,\n",
        "    epochs: int = 50,\n",
        "    lr: float = 1e-4,\n",
        "    beta: float = 1e-3,\n",
        "    lambda_perc: float = 1.0,\n",
        "    lambda_adv: float = 1e-2,\n",
        "    save_dir: str = \"/content/drive/MyDrive/CT Models/VAE\",\n",
        "    accumulate_steps: int = 4,\n",
        "    device: torch.device = torch.device(\"cuda\" if torch.cuda.is_available() else \"cpu\")\n",
        "):\n",
        "    model.to(device).train()\n",
        "    disc = PatchDiscriminator(in_channels=1).to(device).train()\n",
        "    perceptual = LPIPS(net='vgg').to(device).train()\n",
        "\n",
        "    opt_G = Adam(model.parameters(), lr=lr)\n",
        "    opt_D = Adam(disc.parameters(),  lr=lr)\n",
        "    sched_G = CosineAnnealingLR(opt_G, T_max=epochs)\n",
        "    sched_D = CosineAnnealingLR(opt_D, T_max=epochs)\n",
        "    os.makedirs(save_dir, exist_ok=True)\n",
        "\n",
        "    for ep in range(1, epochs + 1):\n",
        "        metrics = {'loss':0., 'rec':0., 'kl':0., 'perc':0., 'adv':0.}\n",
        "        opt_G.zero_grad(); opt_D.zero_grad()\n",
        "\n",
        "        for batch_i, x in enumerate(train_loader, start=1):\n",
        "            x = x.to(device)\n",
        "            x_rgb = x.repeat(1, 3, 1, 1)\n",
        "\n",
        "            # Encode\n",
        "            enc_out     = model.encode(x_rgb)\n",
        "            latent_dist = enc_out.latent_dist\n",
        "            mu, logvar  = latent_dist.mean, latent_dist.logvar\n",
        "            z           = latent_dist.sample() * model.config.scaling_factor\n",
        "\n",
        "            # Decode\n",
        "            dec_out   = model.decode(z)\n",
        "            recon_rgb = dec_out.sample\n",
        "            recon     = recon_rgb[:, :1, :, :]\n",
        "\n",
        "            # Discriminator\n",
        "            pred_real = disc(x)\n",
        "            pred_fake = disc(recon.detach())\n",
        "            loss_D = 0.5 * (\n",
        "                F.binary_cross_entropy_with_logits(pred_real, torch.ones_like(pred_real)) +\n",
        "                F.binary_cross_entropy_with_logits(pred_fake, torch.zeros_like(pred_fake))\n",
        "            )\n",
        "            (loss_D / accumulate_steps).backward()\n",
        "\n",
        "            # Generator\n",
        "            loss_rec    = F.mse_loss(recon, x)\n",
        "            loss_kl     = -0.5 * torch.mean(1 + logvar - mu.pow(2) - logvar.exp())\n",
        "            loss_perc   = perceptual(recon, x).mean()\n",
        "            pred_fake_G = disc(recon)\n",
        "            loss_adv_G  = F.binary_cross_entropy_with_logits(pred_fake_G, torch.ones_like(pred_fake_G))\n",
        "\n",
        "            loss_G = (\n",
        "                loss_rec\n",
        "                + beta        * loss_kl\n",
        "                + lambda_perc * loss_perc\n",
        "                + lambda_adv  * loss_adv_G\n",
        "            )\n",
        "            (loss_G / accumulate_steps).backward()\n",
        "\n",
        "            if batch_i % accumulate_steps == 0:\n",
        "                opt_D.step(); opt_G.step()\n",
        "                opt_D.zero_grad(); opt_G.zero_grad()\n",
        "\n",
        "            for k,v in [('loss', loss_G), ('rec', loss_rec), ('kl', loss_kl), ('perc', loss_perc), ('adv', loss_adv_G)]:\n",
        "                metrics[k] += v.item()\n",
        "\n",
        "        # final step\n",
        "        if batch_i % accumulate_steps != 0:\n",
        "            opt_D.step(); opt_G.step()\n",
        "\n",
        "        sched_G.step(); sched_D.step()\n",
        "\n",
        "        n = len(train_loader)\n",
        "        print(f\"Epoch {ep:2d} | Loss {metrics['loss']/n:.4f} | Rec {metrics['rec']/n:.4f} | \"\n",
        "              f\"KL {metrics['kl']/n:.4f} | Perc {metrics['perc']/n:.4f} | Adv {metrics['adv']/n:.4f}\")\n",
        "\n",
        "        # save\n",
        "        torch.save(model.state_dict(), os.path.join(save_dir, f\"pt_vae_2_epoch_{ep}.pth\"))\n",
        "        torch.save(disc.state_dict(),  os.path.join(save_dir, f\"pt_disc_2_epoch_{ep}.pth\"))\n",
        "        print(f\"Saved checkpoints for epoch {ep}\")\n",
        "        show_reconstruction(\n",
        "            \"/content/drive/MyDrive/CT/full_3mm/L067/full_3mm/L067_FD_3_1.CT.0002.0001.2015.12.22.18.12.07.5968.358090401.IMA\",\n",
        "            model,\n",
        "            transform,\n",
        "            device\n",
        "        )"
      ]
    },
    {
      "cell_type": "code",
      "execution_count": null,
      "metadata": {
        "id": "QqvAs1heIygY"
      },
      "outputs": [],
      "source": [
        "vae = AutoencoderKL.from_pretrained(\"stabilityai/sd-vae-ft-mse\")\n",
        "for p in vae.parameters():\n",
        "    p.requires_grad = True\n",
        "vae.to(torch.device(\"cuda\" if torch.cuda.is_available() else \"cpu\"))"
      ]
    },
    {
      "cell_type": "code",
      "execution_count": null,
      "metadata": {
        "id": "bY1vAw5RkvG3"
      },
      "outputs": [],
      "source": [
        "old_out = vae.decoder.conv_out\n",
        "w2 = old_out.weight.data\n",
        "w2_gray = w2.mean(dim=0, keepdim=True)\n",
        "new_out = nn.Conv2d(\n",
        "    in_channels=old_out.in_channels,\n",
        "    out_channels=1,\n",
        "    kernel_size=old_out.kernel_size,\n",
        "    stride=old_out.stride,\n",
        "    padding=old_out.padding,\n",
        "    bias=(old_out.bias is not None)\n",
        ")\n",
        "new_out.weight.data.copy_(w2_gray)\n",
        "if old_out.bias is not None:\n",
        "    new_out.bias.data.fill_(old_out.bias.data.mean())\n",
        "vae.decoder.conv_out = new_out"
      ]
    },
    {
      "cell_type": "code",
      "execution_count": null,
      "metadata": {
        "id": "OZo0hocLk1fc"
      },
      "outputs": [],
      "source": [
        "opt = torch.optim.Adam(\n",
        "    filter(lambda p: p.requires_grad, vae.parameters()),\n",
        "    lr=1e-5\n",
        ")"
      ]
    },
    {
      "cell_type": "code",
      "source": [
        "device: torch.device = torch.device(\"cuda\" if torch.cuda.is_available() else \"cpu\")\n",
        "ckpt_path = \"/content/drive/MyDrive/CT Models/VAE/pt_vae_2_epoch_100.pth\"\n",
        "state_dict = torch.load(ckpt_path, map_location=device)\n",
        "vae.load_state_dict(state_dict)\n",
        "vae.to(device).eval()"
      ],
      "metadata": {
        "id": "bkdJjbX3GiTg"
      },
      "execution_count": null,
      "outputs": []
    },
    {
      "cell_type": "code",
      "execution_count": null,
      "metadata": {
        "id": "VSi1CFhkZ7kA"
      },
      "outputs": [],
      "source": [
        "train_vae_accum(\n",
        "    vae,\n",
        "    train_loader,\n",
        "    val_loader,\n",
        "    epochs=50,\n",
        "    lr=1e-4,\n",
        "    beta=1e-3,\n",
        "    lambda_perc=1.0,\n",
        "    lambda_adv=1e-2,\n",
        "    accumulate_steps=4,\n",
        "    save_dir=\"/content/drive/MyDrive/CT Models/VAE\"\n",
        ")"
      ]
    },
    {
      "cell_type": "markdown",
      "metadata": {
        "id": "Y_nBin5Z-vbQ"
      },
      "source": [
        "# Inference"
      ]
    },
    {
      "cell_type": "code",
      "execution_count": null,
      "metadata": {
        "colab": {
          "background_save": true
        },
        "id": "IPzCl_FG_XLF"
      },
      "outputs": [],
      "source": [
        "device = torch.device(\"cuda\" if torch.cuda.is_available() else \"cpu\")"
      ]
    },
    {
      "cell_type": "code",
      "execution_count": null,
      "metadata": {
        "id": "lcqde8J3_X3l"
      },
      "outputs": [],
      "source": [
        "vae = AutoencoderKL.from_pretrained(\"stabilityai/sd-vae-ft-mse\")\n",
        "# ... swap conv_out to 1-channel, load your fine-tuned weights, freeze, etc. ...\n",
        "vae.to(device).eval()\n",
        "\n",
        "old_out = vae.decoder.conv_out            # this is your Conv2d(in_ch, 3, k, padding)\n",
        "w2 = old_out.weight.data                  # shape [3, in_ch, k, k]\n",
        "# average the RGB filters to make a grayscale output\n",
        "w2_gray = w2.mean(dim=0, keepdim=True)    # shape [1, in_ch, k, k]\n",
        "\n",
        "new_out = nn.Conv2d(\n",
        "    in_channels=old_out.in_channels,\n",
        "    out_channels=1,\n",
        "    kernel_size=old_out.kernel_size,\n",
        "    stride=old_out.stride,\n",
        "    padding=old_out.padding,\n",
        "    bias=(old_out.bias is not None)\n",
        ")\n",
        "new_out.weight.data.copy_(w2_gray)\n",
        "if old_out.bias is not None:\n",
        "    # average the biases too\n",
        "    new_out.bias.data.fill_(old_out.bias.data.mean())\n",
        "\n",
        "# replace the single conv\n",
        "vae.decoder.conv_out = new_out\n",
        "ckpt_path = \"/content/drive/MyDrive/CT Models/VAE/pt_vae_epoch_11.pth\"  # or whichever epoch\n",
        "state_dict = torch.load(ckpt_path, map_location=device)\n",
        "vae.load_state_dict(state_dict)\n",
        "vae.to(device).eval()"
      ]
    },
    {
      "cell_type": "code",
      "execution_count": null,
      "metadata": {
        "id": "iogaHtE5A2lW"
      },
      "outputs": [],
      "source": [
        "transform = transforms.Compose([\n",
        "    transforms.Grayscale(1),\n",
        "    transforms.Resize(256),\n",
        "    transforms.CenterCrop(256),\n",
        "    transforms.ToTensor(),\n",
        "    transforms.Normalize([0.5], [0.5]),\n",
        "])"
      ]
    },
    {
      "cell_type": "code",
      "execution_count": null,
      "metadata": {
        "id": "el1uUauBjPyl"
      },
      "outputs": [],
      "source": [
        "import matplotlib.pyplot as plt\n",
        "from torchvision import transforms\n",
        "\n",
        "# 1) Define an inverse normalization to go from [-1,+1] back to [0,1]\n",
        "inv_normalize = transforms.Normalize(\n",
        "    mean=[-1.0],  # x' = (x - mean) / std  →  to invert: x = x' * std + mean\n",
        "    std=[2.0]\n",
        ")\n",
        "\n",
        "def load_and_preprocess(path):\n",
        "    ds  = pydicom.dcmread(path)\n",
        "    arr = ds.pixel_array.astype(float)\n",
        "    arr = (arr - arr.min()) / (arr.max() - arr.min() + 1e-5)\n",
        "    pil = Image.fromarray((arr * 255).astype(\"uint8\"))\n",
        "    return transform(pil).unsqueeze(0)\n",
        "\n",
        "# 2) Function to reconstruct and display\n",
        "def show_reconstruction(image_path: str, vae: torch.nn.Module, transform, device):\n",
        "    # Load & preprocess\n",
        "    x = load_and_preprocess(image_path)             # grayscale\n",
        "    x = x.to(device)            # [1,1,H,W], normalized to [-1,+1]\n",
        "    x_rgb = x.repeat(1, 3, 1, 1)                          # VAE expects 3-channel input\n",
        "\n",
        "    # VAE forward\n",
        "    vae.eval()\n",
        "    with torch.no_grad():\n",
        "        enc_out     = vae.encode(x_rgb)\n",
        "        latent_dist = enc_out.latent_dist\n",
        "        z           = latent_dist.sample() * vae.config.scaling_factor\n",
        "        dec_out     = vae.decode(z)\n",
        "        recon_rgb   = dec_out.sample                     # [1,3,H',W']\n",
        "        recon       = recon_rgb[:, :1, :, :]             # take channel 0 → [1,1,H',W']\n",
        "\n",
        "    # Postprocess: undo normalization, clamp to [0,1]\n",
        "    recon_denorm = inv_normalize(recon.cpu().squeeze(0))\n",
        "    orig_denorm  = inv_normalize(x.cpu().squeeze(0))\n",
        "\n",
        "    recon_img = torch.clamp(recon_denorm, 0.0, 1.0)\n",
        "    orig_img  = torch.clamp(orig_denorm,  0.0, 1.0)\n",
        "\n",
        "    # 3) Plot\n",
        "    fig, axes = plt.subplots(1, 2, figsize=(8, 4))\n",
        "    axes[0].imshow(orig_img.squeeze(), cmap=\"gray\")\n",
        "    axes[0].set_title(\"Original\")\n",
        "    axes[0].axis(\"off\")\n",
        "    axes[1].imshow(recon_img.squeeze(), cmap=\"gray\")\n",
        "    axes[1].set_title(\"Reconstruction\")\n",
        "    axes[1].axis(\"off\")\n",
        "    plt.tight_layout()\n",
        "    plt.show()\n",
        "\n",
        "# 4) Usage example:\n",
        "device = torch.device(\"cuda\" if torch.cuda.is_available() else \"cpu\")\n",
        "# assume `vae` and `transform` are already defined and on the right device\n",
        "show_reconstruction(\n",
        "    \"/content/drive/MyDrive/CT/full_3mm/L067/full_3mm/L067_FD_3_1.CT.0002.0001.2015.12.22.18.12.07.5968.358090401.IMA\",\n",
        "    vae,\n",
        "    transform,\n",
        "    device\n",
        ")"
      ]
    },
    {
      "cell_type": "code",
      "execution_count": null,
      "metadata": {
        "id": "hr9ExQwIAbXm"
      },
      "outputs": [],
      "source": []
    }
  ],
  "metadata": {
    "accelerator": "GPU",
    "colab": {
      "gpuType": "A100",
      "machine_shape": "hm",
      "provenance": []
    },
    "kernelspec": {
      "display_name": "Python 3",
      "name": "python3"
    },
    "language_info": {
      "name": "python"
    }
  },
  "nbformat": 4,
  "nbformat_minor": 0
}